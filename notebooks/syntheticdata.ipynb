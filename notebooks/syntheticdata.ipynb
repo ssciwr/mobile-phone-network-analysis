{
 "cells": [
  {
   "cell_type": "markdown",
   "id": "34721957-49a5-4e8e-b1ce-5059b9847928",
   "metadata": {},
   "source": [
    "# Creating artificial data"
   ]
  },
  {
   "cell_type": "markdown",
   "id": "bf0d9339-443c-4054-ae6e-28e2e83d60c6",
   "metadata": {},
   "source": [
    "In order to study this code without access to real world data, we provide this notebook that generates synthetic data that resembles original data. The data is organized in rows, where each row represents one connection of a mobile phone with an antenna. The row has the following structure: `timestamp, userid, zip1, zip2, lat, lon` where\n",
    "\n",
    "* `timestamp` is the timestamp of the connection in the format `YYYYMMDDHHMMSS`\n",
    "* `userid` is a hashed user-id\n",
    "* `zip1` and `zip2` are ZIP-codes and are ignored in our analysis\n",
    "* `lat` is the latitude of the antenna (in degree)\n",
    "* `lon` is the longiuted of the antenna (in degree)"
   ]
  },
  {
   "cell_type": "markdown",
   "id": "2dceb319-8d88-4fa2-a2fa-88bf2dca261a",
   "metadata": {},
   "source": [
    "These are the main parameters for the data generator in this notebook:"
   ]
  },
  {
   "cell_type": "code",
   "execution_count": null,
   "id": "a46ce3ab-5d53-4072-97d5-a5a20baec48a",
   "metadata": {},
   "outputs": [],
   "source": [
    "n_antennas = 20  # number of antennas\n",
    "n_user = 1000  # number of users\n",
    "delay_range = [5, 240]  # The average waiting period between connections\n",
    "total_time = 10080  # The total time covered by the dataset in minutes (here: 1 week)\n",
    "filename = \"../data/synthetic.txt\"  # The filename to save the generated data"
   ]
  },
  {
   "cell_type": "markdown",
   "id": "3a94e15c-19c0-4955-9872-95fc5fe6de7f",
   "metadata": {},
   "source": [
    "We build this based on `numpy` and some standard library utilities:"
   ]
  },
  {
   "cell_type": "code",
   "execution_count": null,
   "id": "9c2b6498-e47b-40f9-91d5-5c5f0520defe",
   "metadata": {},
   "outputs": [],
   "source": [
    "import datetime\n",
    "import hashlib\n",
    "import numpy as np"
   ]
  },
  {
   "cell_type": "markdown",
   "id": "b0137945-9ec5-4388-b0b3-32389503dab8",
   "metadata": {},
   "source": [
    "We start by defining the mobility matrix between antennas. All of its rows are normalized so that we can use them as transition probabilities:"
   ]
  },
  {
   "cell_type": "code",
   "execution_count": null,
   "id": "83ef9dfe-bcd8-4a0f-9a96-2d918d47b19b",
   "metadata": {},
   "outputs": [],
   "source": [
    "mobility_matrix = np.random.rand(n_antennas, n_antennas)\n",
    "sum_of_rows = mobility_matrix.sum(axis=1)\n",
    "mobility_matrix = mobility_matrix / sum_of_rows[:, np.newaxis]"
   ]
  },
  {
   "cell_type": "markdown",
   "id": "f05e4294-607e-4033-80b9-fd572d475723",
   "metadata": {},
   "source": [
    "We now create artifical coordinates for our antennas:"
   ]
  },
  {
   "cell_type": "code",
   "execution_count": null,
   "id": "52d3395d-3558-492d-91fa-d2927f75daf4",
   "metadata": {},
   "outputs": [],
   "source": [
    "antenna_coordinates = np.random.rand(n_antennas, 2)\n",
    "antenna_coordinates[:, 0] = -180 + antenna_coordinates[:, 0] * 360\n",
    "antenna_coordinates[:, 1] = -90 + antenna_coordinates[:, 1] * 180"
   ]
  },
  {
   "cell_type": "markdown",
   "id": "182b9d04-0937-40f3-b17d-aed16b24b110",
   "metadata": {},
   "source": [
    "Next we generate the user by user:"
   ]
  },
  {
   "cell_type": "code",
   "execution_count": null,
   "id": "8e4ceb65-50b7-43e1-9f12-d12da3501ffb",
   "metadata": {},
   "outputs": [],
   "source": [
    "with open(filename, \"w\") as f:\n",
    "    start_time = datetime.datetime.utcnow()\n",
    "    for i in range(n_user):\n",
    "        user_hash = hashlib.md5(str(i).encode()).hexdigest()\n",
    "        current_time = start_time\n",
    "        current_antenna = np.random.default_rng().integers(0, n_antennas)\n",
    "        while current_time - start_time < datetime.timedelta(minutes=total_time):\n",
    "            current_time += datetime.timedelta(\n",
    "                minutes=int(np.random.default_rng().integers(*delay_range))\n",
    "            )\n",
    "            current_antenna = np.random.choice(\n",
    "                n_antennas, p=mobility_matrix[current_antenna, :]\n",
    "            )\n",
    "            f.write(\n",
    "                f\"{current_time.strftime('%Y%m%d%H%M%S')}|{user_hash}|00|000|{antenna_coordinates[current_antenna, 0]}|{antenna_coordinates[current_antenna, 1]}\\n\"\n",
    "            );"
   ]
  },
  {
   "cell_type": "markdown",
   "id": "1a57b2b2-ae85-408c-a6d2-f8b4fbcccdd0",
   "metadata": {},
   "source": [
    "We might want to consider shuffling this data in the future."
   ]
  }
 ],
 "metadata": {
  "kernelspec": {
   "display_name": "Python 3 (ipykernel)",
   "language": "python",
   "name": "python3"
  },
  "language_info": {
   "codemirror_mode": {
    "name": "ipython",
    "version": 3
   },
   "file_extension": ".py",
   "mimetype": "text/x-python",
   "name": "python",
   "nbconvert_exporter": "python",
   "pygments_lexer": "ipython3",
   "version": "3.9.7"
  }
 },
 "nbformat": 4,
 "nbformat_minor": 5
}
