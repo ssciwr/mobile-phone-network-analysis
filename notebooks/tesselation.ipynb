{
 "cells": [
  {
   "cell_type": "markdown",
   "id": "75abc5c5-5ca4-4a80-800c-774688b13e03",
   "metadata": {},
   "source": [
    "# Mapping antenna data to geographic regions"
   ]
  },
  {
   "cell_type": "markdown",
   "id": "89231de6-1826-4a99-8952-3bd97770ee3e",
   "metadata": {},
   "source": [
    "Input parameters for this notebook:"
   ]
  },
  {
   "cell_type": "code",
   "execution_count": null,
   "id": "d13560ce-24ab-4fcd-8a0a-7c7c06d1a690",
   "metadata": {},
   "outputs": [],
   "source": [
    "regions_geojson_file = \"/home/dominic/Downloads/Limite_Bairro_clean.geojson\"\n",
    "antennas_csv_file = \"antenna_pos.csv\""
   ]
  },
  {
   "cell_type": "markdown",
   "id": "99df9212-1afd-4ed8-bf47-722cea1c2feb",
   "metadata": {},
   "source": [
    "The `mobilephonenetworkanalysis` package is a support library shipped by this package. It can be install with `python -m pip install .` from the repository root directory."
   ]
  },
  {
   "cell_type": "code",
   "execution_count": null,
   "id": "eec8db89-4f3d-438b-90de-da4084544c02",
   "metadata": {},
   "outputs": [],
   "source": [
    "import geojson\n",
    "import itertools\n",
    "import mobilephonenetworkanalysis\n",
    "import numpy as np\n",
    "import pyproj\n",
    "import shapely.geometry as geo\n",
    "import scipy.spatial as spatial"
   ]
  },
  {
   "cell_type": "markdown",
   "id": "28b8035e-46b4-4c6a-8937-ae34b9d90ca5",
   "metadata": {},
   "source": [
    "Read the regions both as GeoJSON and a list of shapely geometry objects:"
   ]
  },
  {
   "cell_type": "code",
   "execution_count": null,
   "id": "4ce07ef5-4842-49e6-943e-b5ae2a509324",
   "metadata": {},
   "outputs": [],
   "source": [
    "with open(regions_geojson_file) as f:\n",
    "    data = geojson.load(f)"
   ]
  },
  {
   "cell_type": "code",
   "execution_count": null,
   "id": "00e4d31b-1b2c-4fcb-aca8-e634c7de09de",
   "metadata": {},
   "outputs": [],
   "source": [
    "shapely_polygons = [geo.shape(f[\"geometry\"]) for f in data[\"features\"]]"
   ]
  },
  {
   "cell_type": "markdown",
   "id": "f298851c-97d4-4d4a-886f-d26a1009b2e5",
   "metadata": {},
   "source": [
    "Read the antenna positions both as `np.array` and shapely geometry objects:"
   ]
  },
  {
   "cell_type": "code",
   "execution_count": null,
   "id": "48fb0488-ff0b-4238-b627-b15ca7d1e64f",
   "metadata": {},
   "outputs": [],
   "source": [
    "antennas = np.genfromtxt(antennas_csv_file, delimiter=\",\")"
   ]
  },
  {
   "cell_type": "code",
   "execution_count": null,
   "id": "725755af-8b91-4e83-b1b1-2fd7c48982fc",
   "metadata": {},
   "outputs": [],
   "source": [
    "projection = pyproj.Transformer.from_crs(\n",
    "    \"EPSG:4326\", \"EPSG:29193\", always_xy=False\n",
    ").transform\n",
    "antennas = np.apply_along_axis(lambda row: projection(*row), 1, antennas)"
   ]
  },
  {
   "cell_type": "markdown",
   "id": "3d659554-66fa-4a0c-8d15-53a4630459ce",
   "metadata": {},
   "source": [
    "Calculate a Voronoi tesselation and transform to shapely:"
   ]
  },
  {
   "cell_type": "code",
   "execution_count": null,
   "id": "433a4bb1-0d02-4ee5-ab15-8118a98414be",
   "metadata": {},
   "outputs": [],
   "source": [
    "vor = spatial.Voronoi(antennas)\n",
    "regions, vertices = mobilephonenetworkanalysis.voronoi_finite_polygons_2d(vor)\n",
    "voronoi_polygons = [geo.Polygon([vertices[i] for i in reg]) for reg in regions]"
   ]
  },
  {
   "cell_type": "markdown",
   "id": "dfbc9b29-3af7-4216-b947-1a2758c7f947",
   "metadata": {},
   "source": [
    "Calculate the transformation matrix that describes the relation ship between antennas and barrios:"
   ]
  },
  {
   "cell_type": "code",
   "execution_count": null,
   "id": "bc7f1439-5a05-4ebe-bdb5-d0e4ad0a0fef",
   "metadata": {},
   "outputs": [],
   "source": [
    "b2b = np.zeros(shape=(len(voronoi_polygons), len(shapely_polygons)))\n",
    "for (i, vp), (j, barrio) in itertools.product(\n",
    "    enumerate(voronoi_polygons), enumerate(shapely_polygons)\n",
    "):\n",
    "    b2b[i, j] = vp.intersection(barrio).area / barrio.area"
   ]
  },
  {
   "cell_type": "markdown",
   "id": "3d1c4c14-7c5d-4b48-96c1-6169b1cabeb0",
   "metadata": {},
   "source": [
    "We can assert that in this calculation all barrios are fully covered by antennas, whereas the same assertion for `axis=1` does not hold because there are antennas outside of the city:"
   ]
  },
  {
   "cell_type": "code",
   "execution_count": null,
   "id": "e0f0bf1f-c058-4529-a394-e3086de3b7df",
   "metadata": {},
   "outputs": [],
   "source": [
    "assert np.allclose(np.sum(b2b, axis=0), 1.0)"
   ]
  }
 ],
 "metadata": {
  "kernelspec": {
   "display_name": "Python 3 (ipykernel)",
   "language": "python",
   "name": "python3"
  },
  "language_info": {
   "codemirror_mode": {
    "name": "ipython",
    "version": 3
   },
   "file_extension": ".py",
   "mimetype": "text/x-python",
   "name": "python",
   "nbconvert_exporter": "python",
   "pygments_lexer": "ipython3",
   "version": "3.9.7"
  }
 },
 "nbformat": 4,
 "nbformat_minor": 5
}
