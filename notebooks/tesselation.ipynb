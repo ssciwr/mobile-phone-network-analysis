{
 "cells": [
  {
   "cell_type": "markdown",
   "id": "75abc5c5-5ca4-4a80-800c-774688b13e03",
   "metadata": {},
   "source": [
    "# Mapping antenna data to geographic regions"
   ]
  },
  {
   "cell_type": "markdown",
   "id": "89231de6-1826-4a99-8952-3bd97770ee3e",
   "metadata": {},
   "source": [
    "Input parameters for this notebook:"
   ]
  },
  {
   "cell_type": "code",
   "execution_count": null,
   "id": "d13560ce-24ab-4fcd-8a0a-7c7c06d1a690",
   "metadata": {},
   "outputs": [],
   "source": [
    "regions_geojson_file = \"/home/dominic/Downloads/Limite_Bairro_clean.geojson\"\n",
    "antennas_csv_file = \"antenna_pos.csv\""
   ]
  },
  {
   "cell_type": "markdown",
   "id": "99df9212-1afd-4ed8-bf47-722cea1c2feb",
   "metadata": {},
   "source": [
    "The `mobilephonenetworkanalysis` package is a support library shipped by this package. It can be install with `python -m pip install .` from the repository root directory."
   ]
  },
  {
   "cell_type": "code",
   "execution_count": null,
   "id": "eec8db89-4f3d-438b-90de-da4084544c02",
   "metadata": {},
   "outputs": [],
   "source": [
    "import pyproj\n",
    "import functools\n",
    "import geojson\n",
    "import geopandas\n",
    "import itertools\n",
    "import matplotlib.pyplot as plt\n",
    "import mobilephonenetworkanalysis\n",
    "import numpy as np\n",
    "import shapely.geometry as geo\n",
    "import scipy.spatial as spatial"
   ]
  },
  {
   "cell_type": "markdown",
   "id": "28b8035e-46b4-4c6a-8937-ae34b9d90ca5",
   "metadata": {},
   "source": [
    "Read the regions from GeoJSON as GeoPandas data frame:"
   ]
  },
  {
   "cell_type": "code",
   "execution_count": null,
   "id": "4ce07ef5-4842-49e6-943e-b5ae2a509324",
   "metadata": {},
   "outputs": [],
   "source": [
    "regions_df = geopandas.read_file(regions_geojson_file)\n",
    "regions_df.crs = 29193"
   ]
  },
  {
   "cell_type": "markdown",
   "id": "5f5a1cc2-3650-480e-b8ea-09a5666d280e",
   "metadata": {},
   "source": [
    "Here is a visualization of the regions:"
   ]
  },
  {
   "cell_type": "code",
   "execution_count": null,
   "id": "a126ce64-ea75-40b0-8e1f-c53f48937b48",
   "metadata": {},
   "outputs": [],
   "source": [
    "ax = regions_df.plot(figsize=(20, 8))\n",
    "ax.set_axis_off()"
   ]
  },
  {
   "cell_type": "markdown",
   "id": "f298851c-97d4-4d4a-886f-d26a1009b2e5",
   "metadata": {},
   "source": [
    "Read the antenna positions both as `np.array` and also add them to a dataframe:"
   ]
  },
  {
   "cell_type": "code",
   "execution_count": null,
   "id": "48fb0488-ff0b-4238-b627-b15ca7d1e64f",
   "metadata": {},
   "outputs": [],
   "source": [
    "antennas = np.genfromtxt(antennas_csv_file, delimiter=\",\")"
   ]
  },
  {
   "cell_type": "code",
   "execution_count": null,
   "id": "725755af-8b91-4e83-b1b1-2fd7c48982fc",
   "metadata": {},
   "outputs": [],
   "source": [
    "projection = pyproj.Transformer.from_crs(\n",
    "    \"EPSG:4326\", \"EPSG:29193\", always_xy=False\n",
    ").transform\n",
    "antennas = np.apply_along_axis(lambda row: projection(*row), 1, antennas)"
   ]
  },
  {
   "cell_type": "code",
   "execution_count": null,
   "id": "318088ff-cbcf-4b53-9c4a-2474469adaf8",
   "metadata": {},
   "outputs": [],
   "source": [
    "antenna_df = geopandas.GeoDataFrame(geometry=[geo.Point(a) for a in antennas])"
   ]
  },
  {
   "cell_type": "code",
   "execution_count": null,
   "id": "dd4bbd3f-23df-4fbe-a60e-f492bd809dad",
   "metadata": {},
   "outputs": [],
   "source": [
    "ax = regions_df.plot(figsize=(20, 8))\n",
    "ax.set_axis_off()\n",
    "ax = antenna_df.plot(ax=ax, color=\"black\", markersize=2)"
   ]
  },
  {
   "cell_type": "markdown",
   "id": "3d659554-66fa-4a0c-8d15-53a4630459ce",
   "metadata": {},
   "source": [
    "Calculate a Voronoi tesselation and transform to a dataframe:"
   ]
  },
  {
   "cell_type": "code",
   "execution_count": null,
   "id": "433a4bb1-0d02-4ee5-ab15-8118a98414be",
   "metadata": {},
   "outputs": [],
   "source": [
    "vor = spatial.Voronoi(antennas)\n",
    "regions, vertices = mobilephonenetworkanalysis.voronoi_finite_polygons_2d(vor)\n",
    "antenna_df[\"voronoi\"] = [geo.Polygon([vertices[i] for i in reg]) for reg in regions]\n",
    "antenna_df = antenna_df.set_geometry(\"voronoi\")"
   ]
  },
  {
   "cell_type": "markdown",
   "id": "c9f88621-85a4-45ac-8f33-f861dbf44c50",
   "metadata": {},
   "source": [
    "As the Voronoi diagram extends beyond our specified geographic region, we now intersect each Voronoi region with the union of all regions:"
   ]
  },
  {
   "cell_type": "code",
   "execution_count": null,
   "id": "700d63fa-6449-49ef-9e5e-201b9b3239ff",
   "metadata": {},
   "outputs": [],
   "source": [
    "all_regions = functools.reduce(\n",
    "    lambda a, b: a.union(b), regions_df.geometry, geo.MultiPolygon()\n",
    ")\n",
    "antenna_df.voronoi = antenna_df.voronoi.intersection(all_regions)"
   ]
  },
  {
   "cell_type": "markdown",
   "id": "74c735c5-ca28-4af0-8ae8-38e53825b344",
   "metadata": {},
   "source": [
    "In the visualization, we drop all antennas that do not contribute within our regions:"
   ]
  },
  {
   "cell_type": "code",
   "execution_count": null,
   "id": "8da62ab5-8e5c-4a37-a647-6832154ca8ad",
   "metadata": {},
   "outputs": [],
   "source": [
    "antenna_df_filt = antenna_df[antenna_df.voronoi.area > 0]\n",
    "ax = antenna_df_filt.plot(figsize=(20, 8))\n",
    "ax.set_axis_off()\n",
    "ax = antenna_df_filt[\"geometry\"].copy().plot(ax=ax, markersize=2, color=\"black\")"
   ]
  },
  {
   "cell_type": "markdown",
   "id": "dfbc9b29-3af7-4216-b947-1a2758c7f947",
   "metadata": {},
   "source": [
    "Calculate the transformation matrix that describes the relation ship between antennas and barrios:"
   ]
  },
  {
   "cell_type": "code",
   "execution_count": null,
   "id": "bc7f1439-5a05-4ebe-bdb5-d0e4ad0a0fef",
   "metadata": {},
   "outputs": [],
   "source": [
    "antenna2region = np.zeros(shape=(antenna_df.shape[0], regions_df.shape[0]))\n",
    "for (i, antenna), (j, region) in itertools.product(\n",
    "    antenna_df.iterrows(), regions_df.iterrows()\n",
    "):\n",
    "    if antenna[\"voronoi\"].intersects(region[\"geometry\"]):\n",
    "        antenna2region[i, j] = (\n",
    "            antenna[\"voronoi\"].intersection(region[\"geometry\"]).area\n",
    "            / antenna[\"voronoi\"].area\n",
    "        )"
   ]
  },
  {
   "cell_type": "markdown",
   "id": "7d3e2e61-ef74-4801-a202-07393c653f42",
   "metadata": {},
   "source": [
    "Number of non-zero entries in that matrix:"
   ]
  },
  {
   "cell_type": "code",
   "execution_count": null,
   "id": "257f10ea-a87e-44db-aa7b-c285ced0b93c",
   "metadata": {},
   "outputs": [],
   "source": [
    "np.count_nonzero(antenna2region)"
   ]
  }
 ],
 "metadata": {
  "kernelspec": {
   "display_name": "Python 3 (ipykernel)",
   "language": "python",
   "name": "python3"
  },
  "language_info": {
   "codemirror_mode": {
    "name": "ipython",
    "version": 3
   },
   "file_extension": ".py",
   "mimetype": "text/x-python",
   "name": "python",
   "nbconvert_exporter": "python",
   "pygments_lexer": "ipython3",
   "version": "3.9.7"
  }
 },
 "nbformat": 4,
 "nbformat_minor": 5
}
