{
 "cells": [
  {
   "cell_type": "markdown",
   "id": "d7e21b9f-a68b-4371-8673-0f9fd2d3ed7d",
   "metadata": {},
   "source": [
    "# Time distribution of transition events"
   ]
  },
  {
   "cell_type": "markdown",
   "id": "98d83d90",
   "metadata": {},
   "source": [
    "The goal of this notebook is to plot the time between per-user events - aggregated over all users. This can be used inspect the given data e.g. w.r.t. noisy transitions between antennas or w.r.t. very large time deltas that we might want to exclude from the analysis."
   ]
  },
  {
   "cell_type": "code",
   "execution_count": null,
   "id": "be691764-0033-4ea4-8e68-eb0763bf2b3b",
   "metadata": {},
   "outputs": [],
   "source": [
    "import numpy as np\n",
    "import pandas as pd\n",
    "from pyspark.sql import SparkSession\n",
    "from datetime import datetime\n",
    "import matplotlib.pyplot as plt"
   ]
  },
  {
   "cell_type": "markdown",
   "id": "2af8c68b-331b-4511-b3bd-09356b575943",
   "metadata": {},
   "source": [
    "The setup code is very similar to [mobilitymatrix.ipynb](mobilitymatrix.ipynb)"
   ]
  },
  {
   "cell_type": "code",
   "execution_count": null,
   "id": "2f32bf80-dde3-45f3-b1ac-6d45e326a3ca",
   "metadata": {},
   "outputs": [],
   "source": [
    "spark = (\n",
    "    SparkSession.builder.master(\"local[*]\")\n",
    "    .config(\"spark.driver.memory\", \"32g\")\n",
    "    .appName(\"mobility_analysis\")\n",
    "    .getOrCreate()\n",
    ")"
   ]
  },
  {
   "cell_type": "code",
   "execution_count": null,
   "id": "f11e62b3-ed90-423f-b927-9fd735f281c0",
   "metadata": {},
   "outputs": [],
   "source": [
    "from pyspark.sql.types import StructType, IntegerType, StringType, DoubleType\n",
    "\n",
    "schema = (\n",
    "    StructType()\n",
    "    .add(\"time\", StringType(), True)\n",
    "    .add(\"user\", StringType(), True)\n",
    "    .add(\"zip1\", IntegerType(), True)\n",
    "    .add(\"zip2\", IntegerType(), True)\n",
    "    .add(\"lat\", DoubleType(), True)\n",
    "    .add(\"lon\", DoubleType(), True)\n",
    ")"
   ]
  },
  {
   "cell_type": "code",
   "execution_count": null,
   "id": "dd974b79-0711-4e93-afe1-e1798d0d81b1",
   "metadata": {},
   "outputs": [],
   "source": [
    "data = spark.read.csv(\"../data/calldata\", sep=\"|\", schema=schema)"
   ]
  },
  {
   "cell_type": "code",
   "execution_count": null,
   "id": "ba8142e1-7013-4470-9e82-8978fbb4e4f9",
   "metadata": {},
   "outputs": [],
   "source": [
    "preprocessed = data.rdd.map(lambda row: (row[\"user\"], row[\"time\"]))"
   ]
  },
  {
   "cell_type": "code",
   "execution_count": null,
   "id": "71c5113d-d865-42d1-8974-69d2a6215b16",
   "metadata": {},
   "outputs": [],
   "source": [
    "grouped = preprocessed.groupByKey().map(lambda row: row[1].data)"
   ]
  },
  {
   "cell_type": "markdown",
   "id": "7be172ff-7988-4810-af70-aa1a7498127f",
   "metadata": {},
   "source": [
    "In this step we actually calculate the difference between timestamps for each user:"
   ]
  },
  {
   "cell_type": "code",
   "execution_count": null,
   "id": "8ed6934f-3710-45cb-9a8f-1dee3c6fc90d",
   "metadata": {},
   "outputs": [],
   "source": [
    "def extract_time_between_calls(events):\n",
    "    # Is this the correct sorting criterion?\n",
    "    sorted_events = sorted(events)\n",
    "    ret = []\n",
    "    for a, b in zip(sorted_events[:-1], sorted_events[1:]):\n",
    "        ret.append(\n",
    "            (\n",
    "                datetime.strptime(b, \"%Y%m%d%H%M%S\")\n",
    "                - datetime.strptime(a, \"%Y%m%d%H%M%S\")\n",
    "            ).seconds\n",
    "        )\n",
    "    return ret"
   ]
  },
  {
   "cell_type": "markdown",
   "id": "cac54a52-4233-4181-8a9a-12382ac07558",
   "metadata": {},
   "source": [
    "Next, we aggregate over the entire data and send the data to the fronted:"
   ]
  },
  {
   "cell_type": "code",
   "execution_count": null,
   "id": "b64ea320-a7e8-41ed-aae6-8d9bdc584df7",
   "metadata": {},
   "outputs": [],
   "source": [
    "transitions = grouped.flatMap(extract_time_between_calls).collect()"
   ]
  },
  {
   "cell_type": "markdown",
   "id": "b5a38cd7-92cc-4ee3-bed0-659a7b0782f8",
   "metadata": {},
   "source": [
    "Finally, we plot it:"
   ]
  },
  {
   "cell_type": "code",
   "execution_count": null,
   "id": "634608d3-8bec-4f4b-8d2f-74e60dbf5cea",
   "metadata": {},
   "outputs": [],
   "source": [
    "fig = plt.hist(transitions)"
   ]
  }
 ],
 "metadata": {
  "kernelspec": {
   "display_name": "Python 3 (ipykernel)",
   "language": "python",
   "name": "python3"
  },
  "language_info": {
   "codemirror_mode": {
    "name": "ipython",
    "version": 3
   },
   "file_extension": ".py",
   "mimetype": "text/x-python",
   "name": "python",
   "nbconvert_exporter": "python",
   "pygments_lexer": "ipython3",
   "version": "3.9.7"
  }
 },
 "nbformat": 4,
 "nbformat_minor": 5
}
