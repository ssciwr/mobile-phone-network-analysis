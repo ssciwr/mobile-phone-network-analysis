{
 "cells": [
  {
   "cell_type": "markdown",
   "id": "c0195559-bd2e-47af-81d5-9b107e8a191d",
   "metadata": {},
   "source": [
    "# Pandas version of mobilitymatrix.ipynb"
   ]
  },
  {
   "cell_type": "code",
   "execution_count": null,
   "id": "d65f23ad-1350-4944-a385-224178245cad",
   "metadata": {},
   "outputs": [],
   "source": [
    "import pandas as pd\n",
    "import numpy as np"
   ]
  },
  {
   "cell_type": "markdown",
   "id": "b5fdc961-ce82-4995-9119-2864df2e1a8c",
   "metadata": {},
   "source": [
    "### Import data"
   ]
  },
  {
   "cell_type": "code",
   "execution_count": null,
   "id": "12fcb775-8ca2-43f6-83c3-ae60e694f7a1",
   "metadata": {},
   "outputs": [],
   "source": [
    "%%time\n",
    "# read data: specify which columns to import, and use time column for index\n",
    "df = pd.read_csv(\n",
    "    \"../data/calldata/synthetic.txt\",\n",
    "    sep=\"|\",\n",
    "    names=[\"time\", \"user\", \"zip1\", \"zip2\", \"lat\", \"lon\"],\n",
    "    usecols=[\"time\", \"user\", \"lat\", \"lon\"],\n",
    "    index_col=\"time\",\n",
    ")"
   ]
  },
  {
   "cell_type": "code",
   "execution_count": null,
   "id": "b427551c-99ae-4b7a-a5e7-7d22db74f566",
   "metadata": {},
   "outputs": [],
   "source": [
    "df.head()"
   ]
  },
  {
   "cell_type": "code",
   "execution_count": null,
   "id": "c7131420-5b70-42e1-b72c-3fd1714a5706",
   "metadata": {},
   "outputs": [],
   "source": [
    "df.count()"
   ]
  },
  {
   "cell_type": "code",
   "execution_count": null,
   "id": "bf46b023-c438-4b21-b49d-7e9bc6b8a710",
   "metadata": {},
   "outputs": [],
   "source": [
    "df.dtypes"
   ]
  },
  {
   "cell_type": "code",
   "execution_count": null,
   "id": "ab8fa386-c054-497c-b180-c0b895e0b6e2",
   "metadata": {},
   "outputs": [],
   "source": [
    "print(f\"ram: {df.memory_usage(deep=True).sum()/2**30} Gig\")"
   ]
  },
  {
   "cell_type": "markdown",
   "id": "a27cf068-d8b7-47a1-9dae-b9d1a5a462b1",
   "metadata": {},
   "source": [
    "### Use smaller data types"
   ]
  },
  {
   "cell_type": "code",
   "execution_count": null,
   "id": "419b7fc1-1977-4d8a-9e77-fadbba8c82c0",
   "metadata": {},
   "outputs": [],
   "source": [
    "%%time\n",
    "# factorize lat, lon, user_ids (ie replace values with unique index)\n",
    "df.lat, lats = pd.factorize(df.lat)\n",
    "df.lon, lons = pd.factorize(df.lon)\n",
    "df.user, user_ids = pd.factorize(df.user)\n",
    "# combine lat/lon into a single antenna_id column & re-factorize\n",
    "df.lat = df.lat + len(lats) * df.lon\n",
    "df[\"antenna_id\"], antenna_locations = pd.factorize(df.lat)\n",
    "# drop lat, lon columns\n",
    "df.drop([\"lat\", \"lon\"], axis=1, inplace=True)"
   ]
  },
  {
   "cell_type": "code",
   "execution_count": null,
   "id": "0ed457ec-8bc0-4d91-af73-27f76339a7d5",
   "metadata": {},
   "outputs": [],
   "source": [
    "%%time\n",
    "# use smallest integer type that can represent all values in each column to save memory\n",
    "for name in [\"antenna_id\", \"user\"]:\n",
    "    df[name] = pd.to_numeric(df[name], downcast=\"unsigned\")"
   ]
  },
  {
   "cell_type": "code",
   "execution_count": null,
   "id": "02d3be50-5f4b-415b-b146-27a21040d807",
   "metadata": {},
   "outputs": [],
   "source": [
    "%%time\n",
    "# ensure rows are sorted by time\n",
    "if not df.index.is_monotonic_increasing:\n",
    "    df.sort_index(inplace=True)"
   ]
  },
  {
   "cell_type": "code",
   "execution_count": null,
   "id": "9dbef151-cd81-481c-8c8a-739ed03d787d",
   "metadata": {},
   "outputs": [],
   "source": [
    "df.head()"
   ]
  },
  {
   "cell_type": "code",
   "execution_count": null,
   "id": "25a85f4b-c165-45b4-bbe0-67d461b98f83",
   "metadata": {},
   "outputs": [],
   "source": [
    "df.dtypes"
   ]
  },
  {
   "cell_type": "code",
   "execution_count": null,
   "id": "3a1dc1e5-48e6-4980-8146-f5c38e9ad116",
   "metadata": {},
   "outputs": [],
   "source": [
    "print(f\"ram: {df.memory_usage(deep=True).sum()/2**30} Gig\")"
   ]
  },
  {
   "cell_type": "markdown",
   "id": "fb5d3b4b-da39-485d-9361-b029682f543b",
   "metadata": {},
   "source": [
    "### Construct mobility matrix"
   ]
  },
  {
   "cell_type": "code",
   "execution_count": null,
   "id": "e828d164-3487-4765-bd42-c4d6f9a5b4f1",
   "metadata": {},
   "outputs": [],
   "source": [
    "# construction of antenna_id series grouped by user (lazy evaluation: no work done here)\n",
    "grouped_by_user = df.groupby(\"user\", sort=False)[\"antenna_id\"]"
   ]
  },
  {
   "cell_type": "code",
   "execution_count": null,
   "id": "46a62782-e29a-4ccb-8d30-15e059ef81c3",
   "metadata": {},
   "outputs": [],
   "source": [
    "%%time\n",
    "# construct mobility matrix\n",
    "n = len(antenna_locations)\n",
    "antenna_map = np.zeros((n, n), dtype=\"int64\")\n",
    "# iterate over antenna_ids for each user\n",
    "for user, data in grouped_by_user:\n",
    "    # get underlying numpy array from pandas Series\n",
    "    indices = data.array\n",
    "    # for each antenna transition i->j, increment [i,j] element of antenna_map\n",
    "    np.add.at(antenna_map, (indices[:-1], indices[1:]), 1)"
   ]
  }
 ],
 "metadata": {
  "kernelspec": {
   "display_name": "Python 3 (ipykernel)",
   "language": "python",
   "name": "python3"
  },
  "language_info": {
   "codemirror_mode": {
    "name": "ipython",
    "version": 3
   },
   "file_extension": ".py",
   "mimetype": "text/x-python",
   "name": "python",
   "nbconvert_exporter": "python",
   "pygments_lexer": "ipython3",
   "version": "3.9.7"
  }
 },
 "nbformat": 4,
 "nbformat_minor": 5
}
